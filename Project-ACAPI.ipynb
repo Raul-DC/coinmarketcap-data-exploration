{
 "cells": [
  {
   "cell_type": "code",
   "execution_count": null,
   "id": "70cbe983",
   "metadata": {},
   "outputs": [],
   "source": [
    "import os\n",
    "\n",
    "from requests import Request, Session\n",
    "from requests.exceptions import ConnectionError, Timeout, TooManyRedirects\n",
    "import json\n",
    "from dotenv import load_dotenv\n",
    "import os\n",
    "\n",
    "load_dotenv() \n",
    "\n",
    "url = 'https://pro-api.coinmarketcap.com/v1/cryptocurrency/listings/latest' \n",
    "#Original Sandbox Environment: 'https://sandbox-api.coinmarketcap.com/v1/cryptocurrency/listings/latest'\n",
    "parameters = {\n",
    "  'start':'1',\n",
    "  'limit':'15',\n",
    "  'convert':'USD'\n",
    "}\n",
    "headers = {\n",
    "  'Accepts': 'application/json',\n",
    "  'X-CMC_PRO_API_KEY': os.getenv('CMC_API_KEY')  \n",
    "}\n",
    "\n",
    "session = Session()\n",
    "session.headers.update(headers)\n",
    "\n",
    "try:\n",
    "  response = session.get(url, params=parameters)\n",
    "  data = json.loads(response.text)\n",
    "  #print(data)\n",
    "except (ConnectionError, Timeout, TooManyRedirects) as e:\n",
    "  print(e)\n",
    "\n",
    "#NOTE:\n",
    "# I had to go in and put \"jupyter notebook --NotebookApp.iopub_data_rate_limit=1e10\" to allow to pull data\n",
    "\n",
    "# If that didn't work try using the local host URL (http://localhost:8888)"
   ]
  },
  {
   "cell_type": "code",
   "execution_count": 23,
   "id": "31bdff98",
   "metadata": {},
   "outputs": [
    {
     "data": {
      "text/plain": [
       "dict"
      ]
     },
     "execution_count": 23,
     "metadata": {},
     "output_type": "execute_result"
    }
   ],
   "source": [
    "type(data)"
   ]
  },
  {
   "cell_type": "code",
   "execution_count": 24,
   "id": "4cbf82ee",
   "metadata": {},
   "outputs": [],
   "source": [
    "import pandas as pd\n",
    "\n",
    "\n",
    "#This allows you to see all the columns, not just like 15\n",
    "pd.set_option('display.max_columns', None)\n",
    "pd.set_option('display.max_rows', None)"
   ]
  },
  {
   "cell_type": "code",
   "execution_count": null,
   "id": "48c3b340",
   "metadata": {},
   "outputs": [],
   "source": [
    "#This normalizes the data and makes it all pretty in a dataframe\n",
    "\n",
    "df = pd.json_normalize(data['data'])\n",
    "df['timestamp'] = pd.to_datetime('now')\n",
    "df"
   ]
  },
  {
   "cell_type": "code",
   "execution_count": 68,
   "id": "dcb49d75",
   "metadata": {},
   "outputs": [
    {
     "data": {
      "text/plain": [
       "<bound method NDFrame.head of       id          name symbol          slug  num_market_pairs  \\\n",
       "0      1       Bitcoin    BTC       bitcoin             12025   \n",
       "1   1027      Ethereum    ETH      ethereum             10119   \n",
       "2    825   Tether USDt   USDT        tether            123662   \n",
       "3     52           XRP    XRP           xrp              1586   \n",
       "4   1839           BNB    BNB           bnb              2463   \n",
       "5   5426        Solana    SOL        solana               892   \n",
       "6   3408          USDC   USDC      usd-coin             27035   \n",
       "7     74      Dogecoin   DOGE      dogecoin              1202   \n",
       "8   1958          TRON    TRX          tron              1162   \n",
       "9   2010       Cardano    ADA       cardano              1502   \n",
       "10  3957  UNUS SED LEO    LEO  unus-sed-leo                59   \n",
       "11  1975     Chainlink   LINK     chainlink              1987   \n",
       "12  5805     Avalanche   AVAX     avalanche               906   \n",
       "13  4642        Hedera   HBAR        hedera               336   \n",
       "14   512       Stellar    XLM       stellar               700   \n",
       "\n",
       "                  date_added  \\\n",
       "0   2010-07-13T00:00:00.000Z   \n",
       "1   2015-08-07T00:00:00.000Z   \n",
       "2   2015-02-25T00:00:00.000Z   \n",
       "3   2013-08-04T00:00:00.000Z   \n",
       "4   2017-07-25T00:00:00.000Z   \n",
       "5   2020-04-10T00:00:00.000Z   \n",
       "6   2018-10-08T00:00:00.000Z   \n",
       "7   2013-12-15T00:00:00.000Z   \n",
       "8   2017-09-13T00:00:00.000Z   \n",
       "9   2017-10-01T00:00:00.000Z   \n",
       "10  2019-05-21T00:00:00.000Z   \n",
       "11  2017-09-20T00:00:00.000Z   \n",
       "12  2020-07-13T00:00:00.000Z   \n",
       "13  2019-09-17T00:00:00.000Z   \n",
       "14  2014-08-05T00:00:00.000Z   \n",
       "\n",
       "                                                 tags         max_supply  \\\n",
       "0   [mineable, pow, sha-256, store-of-value, state...     21000000.00000   \n",
       "1   [pos, smart-contracts, ethereum-ecosystem, coi...                NaN   \n",
       "2   [stablecoin, asset-backed-stablecoin, usd-stab...                NaN   \n",
       "3   [medium-of-exchange, enterprise-solutions, xrp... 100000000000.00000   \n",
       "4   [marketplace, centralized-exchange, payments, ...                NaN   \n",
       "5   [pos, platform, solana-ecosystem, cms-holdings...                NaN   \n",
       "6   [medium-of-exchange, stablecoin, asset-backed-...                NaN   \n",
       "7   [mineable, pow, scrypt, medium-of-exchange, me...                NaN   \n",
       "8   [media, payments, tron-ecosystem, layer-1, dwf...                NaN   \n",
       "9   [dpos, pos, platform, research, smart-contract...  45000000000.00000   \n",
       "10  [marketplace, centralized-exchange, discount-t...                NaN   \n",
       "11  [platform, defi, oracles, smart-contracts, eth...                NaN   \n",
       "12  [defi, smart-contracts, three-arrows-capital-p...    715748719.00000   \n",
       "13  [dag, marketplace, enterprise-solutions, defi,...  50000000000.00000   \n",
       "14  [medium-of-exchange, enterprise-solutions, dec...  50001806812.00000   \n",
       "\n",
       "    circulating_supply       total_supply  infinite_supply  platform  \\\n",
       "0       19849653.00000     19849653.00000            False       NaN   \n",
       "1      120682974.73077    120682974.73077             True       NaN   \n",
       "2   144342486102.14392 148858996002.87717             True       NaN   \n",
       "3    58274974538.00000  99986277500.00000            False       NaN   \n",
       "4      142470776.20000    142470776.20000            False       NaN   \n",
       "5      515918034.05919    598282746.66906             True       NaN   \n",
       "6    60008062743.99670  60008062743.99670            False       NaN   \n",
       "7   148805476383.70523 148805476383.70523             True       NaN   \n",
       "8    94964867143.03491  94964879420.80008             True       NaN   \n",
       "9    35281021301.53609  44994917898.49599            False       NaN   \n",
       "10     923723956.90000    985239504.00000            False       NaN   \n",
       "11     657099970.45279   1000000000.00000            False       NaN   \n",
       "12     415743568.94213    452413068.94213            False       NaN   \n",
       "13   42228651556.69149  50000000000.00000            False       NaN   \n",
       "14   30783273337.72857  50001786892.81792            False       NaN   \n",
       "\n",
       "    cmc_rank self_reported_circulating_supply self_reported_market_cap  \\\n",
       "0          1                             None                     None   \n",
       "1          2                             None                     None   \n",
       "2          3                             None                     None   \n",
       "3          4                             None                     None   \n",
       "4          5                             None                     None   \n",
       "5          6                             None                     None   \n",
       "6          7                             None                     None   \n",
       "7          8                             None                     None   \n",
       "8          9                             None                     None   \n",
       "9         10                             None                     None   \n",
       "10        11                             None                     None   \n",
       "11        12                             None                     None   \n",
       "12        13                             None                     None   \n",
       "13        14                             None                     None   \n",
       "14        15                             None                     None   \n",
       "\n",
       "   tvl_ratio              last_updated  quote.USD.price  quote.USD.volume_24h  \\\n",
       "0       None  2025-04-11T08:19:00.000Z      81279.66152     44815864331.72803   \n",
       "1       None  2025-04-11T08:18:00.000Z       1554.08327     20701944106.43269   \n",
       "2       None  2025-04-11T08:18:00.000Z          0.99944     78628874254.12970   \n",
       "3       None  2025-04-11T08:19:00.000Z          1.99939      4054495788.51628   \n",
       "4       None  2025-04-11T08:19:00.000Z        580.50165      1704488738.60696   \n",
       "5       None  2025-04-11T08:18:00.000Z        116.72197      4017735628.61473   \n",
       "6       None  2025-04-11T08:19:00.000Z          0.99991     13292319047.52570   \n",
       "7       None  2025-04-11T08:19:00.000Z          0.15690      1097926012.01804   \n",
       "8       None  2025-04-11T08:19:00.000Z          0.23688       615183290.49447   \n",
       "9       None  2025-04-11T08:19:00.000Z          0.62522       892315170.29532   \n",
       "10      None  2025-04-11T08:19:00.000Z          9.41187         2712473.73455   \n",
       "11      None  2025-04-11T08:19:00.000Z         12.36796       398583082.03364   \n",
       "12      None  2025-04-11T08:18:00.000Z         18.51712       287748357.72755   \n",
       "13      None  2025-04-11T08:18:00.000Z          0.17275       424726522.32786   \n",
       "14      None  2025-04-11T08:19:00.000Z          0.23589       178880149.79483   \n",
       "\n",
       "    quote.USD.volume_change_24h  quote.USD.percent_change_1h  \\\n",
       "0                     -39.29960                      0.30697   \n",
       "1                     -37.34640                      0.33290   \n",
       "2                     -36.69470                      0.00706   \n",
       "3                     -51.59180                      0.19833   \n",
       "4                      -6.36360                      0.05675   \n",
       "5                     -38.35960                      0.14648   \n",
       "6                     -31.36350                     -0.01181   \n",
       "7                     -45.30410                      0.11219   \n",
       "8                     -27.90840                      0.91997   \n",
       "9                     -39.15880                     -0.65077   \n",
       "10                    -48.43270                     -0.05941   \n",
       "11                    -35.24510                     -0.28299   \n",
       "12                    -46.14690                      0.01963   \n",
       "13                    -30.44360                      0.70297   \n",
       "14                    -35.39970                      0.21647   \n",
       "\n",
       "    quote.USD.percent_change_24h  quote.USD.percent_change_7d  \\\n",
       "0                       -0.48057                     -3.73795   \n",
       "1                       -2.49669                    -14.96807   \n",
       "2                       -0.01540                     -0.04578   \n",
       "3                        0.33961                     -4.68554   \n",
       "4                        0.40709                     -3.10939   \n",
       "5                        1.57678                     -1.55282   \n",
       "6                        0.00358                     -0.00335   \n",
       "7                        0.46468                     -6.06086   \n",
       "8                       -0.88072                     -0.38025   \n",
       "9                        0.70089                     -5.74282   \n",
       "10                       0.25595                      0.41950   \n",
       "11                       0.29207                     -5.80502   \n",
       "12                       2.47916                     -0.90755   \n",
       "13                       1.26828                      4.48431   \n",
       "14                       0.91442                    -10.63947   \n",
       "\n",
       "    quote.USD.percent_change_30d  quote.USD.percent_change_60d  \\\n",
       "0                       -1.43326                     -16.81535   \n",
       "1                      -17.79606                     -41.24671   \n",
       "2                       -0.09468                      -0.07093   \n",
       "3                       -9.24764                     -17.58351   \n",
       "4                        4.38941                      -4.60509   \n",
       "5                       -5.64849                     -42.82090   \n",
       "6                       -0.00410                      -0.01989   \n",
       "7                       -5.55083                     -37.80670   \n",
       "8                        6.63021                       0.31818   \n",
       "9                      -15.44142                     -10.95091   \n",
       "10                      -4.92160                      -4.72752   \n",
       "11                      -5.55708                     -34.29072   \n",
       "12                       5.17419                     -27.85407   \n",
       "13                     -14.24719                     -28.03285   \n",
       "14                      -7.52286                     -25.64517   \n",
       "\n",
       "    quote.USD.percent_change_90d  quote.USD.market_cap  \\\n",
       "0                      -13.82682   1613373077162.58081   \n",
       "1                      -51.97093    187551392062.78339   \n",
       "2                       -0.01947    144261248603.94351   \n",
       "3                      -14.82989    116514407765.96814   \n",
       "4                      -16.62005     82704520890.00238   \n",
       "5                      -37.44509     60218969698.93516   \n",
       "6                       -0.00465     60002417931.50454   \n",
       "7                      -52.82513     23347962629.73959   \n",
       "8                       -2.44732     22495186495.29564   \n",
       "9                      -32.23462     22058525177.74179   \n",
       "10                      -0.13912      8693971976.92352   \n",
       "11                     -38.14113      8126986574.91156   \n",
       "12                     -49.33406      7698372720.76301   \n",
       "13                     -38.17661      7295069620.68790   \n",
       "14                     -42.29232      7261520069.11956   \n",
       "\n",
       "    quote.USD.market_cap_dominance  quote.USD.fully_diluted_market_cap  \\\n",
       "0                         62.37820                 1706872891955.05005   \n",
       "1                          7.24770                  187551392062.78000   \n",
       "2                          5.57760                  148775216564.50000   \n",
       "3                          4.50480                  199939011024.35001   \n",
       "4                          3.19760                   82704520890.00000   \n",
       "5                          2.32920                   69832741277.89999   \n",
       "6                          2.31990                   60002417931.50000   \n",
       "7                          0.90270                   23347962629.74000   \n",
       "8                          0.86970                   22495189403.64000   \n",
       "9                          0.85370                   28135059484.66000   \n",
       "10                         0.33610                    9272948454.30000   \n",
       "11                         0.31410                   12367960645.79000   \n",
       "12                         0.29760                   13253603482.77000   \n",
       "13                         0.28190                    8637582958.21000   \n",
       "14                         0.28080                   11795013469.62000   \n",
       "\n",
       "   quote.USD.tvl    quote.USD.last_updated  platform.id platform.name  \\\n",
       "0           None  2025-04-11T08:19:00.000Z          NaN           NaN   \n",
       "1           None  2025-04-11T08:18:00.000Z          NaN           NaN   \n",
       "2           None  2025-04-11T08:18:00.000Z   1027.00000      Ethereum   \n",
       "3           None  2025-04-11T08:19:00.000Z          NaN           NaN   \n",
       "4           None  2025-04-11T08:19:00.000Z          NaN           NaN   \n",
       "5           None  2025-04-11T08:18:00.000Z          NaN           NaN   \n",
       "6           None  2025-04-11T08:19:00.000Z   1027.00000      Ethereum   \n",
       "7           None  2025-04-11T08:19:00.000Z          NaN           NaN   \n",
       "8           None  2025-04-11T08:19:00.000Z          NaN           NaN   \n",
       "9           None  2025-04-11T08:19:00.000Z          NaN           NaN   \n",
       "10          None  2025-04-11T08:19:00.000Z   1027.00000      Ethereum   \n",
       "11          None  2025-04-11T08:19:00.000Z   1027.00000      Ethereum   \n",
       "12          None  2025-04-11T08:18:00.000Z          NaN           NaN   \n",
       "13          None  2025-04-11T08:18:00.000Z          NaN           NaN   \n",
       "14          None  2025-04-11T08:19:00.000Z          NaN           NaN   \n",
       "\n",
       "   platform.symbol platform.slug                      platform.token_address  \\\n",
       "0              NaN           NaN                                         NaN   \n",
       "1              NaN           NaN                                         NaN   \n",
       "2              ETH      ethereum  0xdac17f958d2ee523a2206206994597c13d831ec7   \n",
       "3              NaN           NaN                                         NaN   \n",
       "4              NaN           NaN                                         NaN   \n",
       "5              NaN           NaN                                         NaN   \n",
       "6              ETH      ethereum  0xa0b86991c6218b36c1d19d4a2e9eb0ce3606eb48   \n",
       "7              NaN           NaN                                         NaN   \n",
       "8              NaN           NaN                                         NaN   \n",
       "9              NaN           NaN                                         NaN   \n",
       "10             ETH      ethereum  0x2af5d2ad76741191d15dfe7bf6ac92d4bd912ca3   \n",
       "11             ETH      ethereum  0x514910771af9ca656af840dff83e8264ecf986ca   \n",
       "12             NaN           NaN                                         NaN   \n",
       "13             NaN           NaN                                         NaN   \n",
       "14             NaN           NaN                                         NaN   \n",
       "\n",
       "                    timestamp  \n",
       "0  2025-04-11 05:51:45.268800  \n",
       "1  2025-04-11 05:51:45.268800  \n",
       "2  2025-04-11 05:51:45.268800  \n",
       "3  2025-04-11 05:51:45.268800  \n",
       "4  2025-04-11 05:51:45.268800  \n",
       "5  2025-04-11 05:51:45.268800  \n",
       "6  2025-04-11 05:51:45.268800  \n",
       "7  2025-04-11 05:51:45.268800  \n",
       "8  2025-04-11 05:51:45.268800  \n",
       "9  2025-04-11 05:51:45.268800  \n",
       "10 2025-04-11 05:51:45.268800  \n",
       "11 2025-04-11 05:51:45.268800  \n",
       "12 2025-04-11 05:51:45.268800  \n",
       "13 2025-04-11 05:51:45.268800  \n",
       "14 2025-04-11 05:51:45.268800  >"
      ]
     },
     "execution_count": 68,
     "metadata": {},
     "output_type": "execute_result"
    }
   ],
   "source": [
    "df.head"
   ]
  },
  {
   "cell_type": "code",
   "execution_count": null,
   "id": "d792e388",
   "metadata": {},
   "outputs": [],
   "source": [
    "import os\n",
    "\n",
    "\n",
    "def api_runner():\n",
    "    global df\n",
    "    url = 'https://pro-api.coinmarketcap.com/v1/cryptocurrency/listings/latest' \n",
    "    #Original Sandbox Environment: 'https://sandbox-api.coinmarketcap.com/v1/cryptocurrency/listings/latest'\n",
    "    parameters = {\n",
    "      'start':'1',\n",
    "      'limit':'15',\n",
    "      'convert':'USD'\n",
    "    }\n",
    "    headers = {\n",
    "      'Accepts': 'application/json',\n",
    "      'X-CMC_PRO_API_KEY': os.getenv('CMC_API_KEY')  \n",
    "    }\n",
    "\n",
    "    session = Session()\n",
    "    session.headers.update(headers)\n",
    "\n",
    "    try:\n",
    "      response = session.get(url, params=parameters)\n",
    "      data = json.loads(response.text)\n",
    "      #print(data)\n",
    "    except (ConnectionError, Timeout, TooManyRedirects) as e:\n",
    "      print(e)\n",
    "\n",
    "#NOTE:\n",
    "# I had to go in and put \"jupyter notebook --NotebookApp.iopub_data_rate_limit=1e10\"\n",
    "# Into the Anaconda Prompt to change this to allow to pull data\n",
    "    \n",
    "    # Use this if you just want to keep it in a dataframe\n",
    "    df2 = pd.json_normalize(data['data'])\n",
    "    df2['Timestamp'] = pd.to_datetime('now')\n",
    "    df = pd.concat([df, df2])  # it was 'df = df.append(df2)' before\n",
    "\n",
    "\n",
    "    # Use this if you want to create a csv and append data to it\n",
    "    #df = pd.json_normalize(data['data'])\n",
    "    #df['timestamp'] = pd.to_datetime('now')\n",
    "    #df\n",
    "\n",
    "    #if not os.path.isfile(r'C:\\Users\\user\\OneDrive\\Documents\\Python Scripts\\API.csv'):\n",
    "        #df.to_csv(r'C:\\Users\\user\\OneDrive\\Documents\\Python Scripts\\API.csv', header='column_names')\n",
    "    #else:\n",
    "        #df.to_csv(r'C:\\Users\\user\\OneDrive\\Documents\\Python Scripts\\API.csv', mode='a', header=False)\n",
    "        \n",
    "    #Then to read in the file: df = pd.read_csv(r'C:\\Users\\user\\OneDrive\\Documents\\Python Scripts\\API.csv')\n",
    "\n",
    "# If that didn't work try using the local host URL (http://localhost:8888)"
   ]
  },
  {
   "cell_type": "code",
   "execution_count": 44,
   "id": "9e272cea",
   "metadata": {},
   "outputs": [
    {
     "name": "stdout",
     "output_type": "stream",
     "text": [
      "API Runner completed\n",
      "API Runner completed\n",
      "API Runner completed\n",
      "API Runner completed\n",
      "API Runner completed\n",
      "API Runner completed\n",
      "API Runner completed\n",
      "API Runner completed\n",
      "API Runner completed\n",
      "API Runner completed\n"
     ]
    }
   ],
   "source": [
    "import os \n",
    "from time import time\n",
    "from time import sleep\n",
    "\n",
    "for i in range(10): # it was 333 before\n",
    "    api_runner()\n",
    "    print('API Runner completed')\n",
    "    sleep(60) # it was 60 before\n",
    "# exit() # this was causing the Kernel to crash"
   ]
  },
  {
   "cell_type": "code",
   "execution_count": null,
   "id": "bf9a55d9",
   "metadata": {},
   "outputs": [],
   "source": [
    "df72 = pd.read_csv(r'C:\\Users\\alexf\\OneDrive\\Documents\\Python Scripts\\API.csv')\n",
    "df72"
   ]
  },
  {
   "cell_type": "code",
   "execution_count": null,
   "id": "8902053b",
   "metadata": {},
   "outputs": [],
   "source": [
    "df"
   ]
  },
  {
   "cell_type": "code",
   "execution_count": 47,
   "id": "b7c56101",
   "metadata": {},
   "outputs": [],
   "source": [
    "# One thing I noticed was the scientific notation. I like it, but I want to be able to see the numbers in this case\n",
    "\n",
    "pd.set_option('display.float_format', lambda x: '%.5f' % x)"
   ]
  },
  {
   "cell_type": "code",
   "execution_count": null,
   "id": "56b5a577",
   "metadata": {},
   "outputs": [],
   "source": [
    "df"
   ]
  },
  {
   "cell_type": "code",
   "execution_count": null,
   "id": "e4227c53",
   "metadata": {},
   "outputs": [],
   "source": [
    "# Now let's look at the coin trends over time\n",
    "\n",
    "df3 = df.groupby('name', sort=False)[['quote.USD.percent_change_1h','quote.USD.percent_change_24h','quote.USD.percent_change_7d','quote.USD.percent_change_30d','quote.USD.percent_change_60d','quote.USD.percent_change_90d']].mean()\n",
    "df3"
   ]
  },
  {
   "cell_type": "code",
   "execution_count": null,
   "id": "f3e2d1db",
   "metadata": {},
   "outputs": [],
   "source": [
    "df4 = df3.stack()\n",
    "df4"
   ]
  },
  {
   "cell_type": "code",
   "execution_count": 33,
   "id": "2ef8ee34",
   "metadata": {},
   "outputs": [
    {
     "data": {
      "text/plain": [
       "pandas.core.series.Series"
      ]
     },
     "execution_count": 33,
     "metadata": {},
     "output_type": "execute_result"
    }
   ],
   "source": [
    "type(df4)"
   ]
  },
  {
   "cell_type": "code",
   "execution_count": null,
   "id": "4b7b94bf",
   "metadata": {},
   "outputs": [],
   "source": [
    "df5 = df4.to_frame(name='values')\n",
    "df5"
   ]
  },
  {
   "cell_type": "code",
   "execution_count": 52,
   "id": "b8125368",
   "metadata": {},
   "outputs": [
    {
     "data": {
      "text/plain": [
       "values    96\n",
       "dtype: int64"
      ]
     },
     "execution_count": 52,
     "metadata": {},
     "output_type": "execute_result"
    }
   ],
   "source": [
    "df5.count()"
   ]
  },
  {
   "cell_type": "code",
   "execution_count": null,
   "id": "fc6ade71",
   "metadata": {},
   "outputs": [],
   "source": [
    "# Because of how it's structured above we need to set an index. I don't want to pass a column as an index for this dataframe\n",
    "# So I'm going to create a range and pass that as the dataframe. You can make this more dynamic, but I'm just going to hard code it\n",
    "\n",
    "\n",
    "# index = pd.Index(range(90))\n",
    "\n",
    "# Set the above DataFrame index object as the index\n",
    "# using set_index() function\n",
    "# df6 = df5.set_index(index)\n",
    "df6 = df5.reset_index()\n",
    "df6\n",
    "\n",
    "# If it only has the index and values try doing reset_index like \"df5.reset_index()\""
   ]
  },
  {
   "cell_type": "code",
   "execution_count": null,
   "id": "7d13cd4d",
   "metadata": {},
   "outputs": [],
   "source": [
    "# Change the column name\n",
    "\n",
    "df7 = df6.rename(columns={'level_1': 'percent_change'})\n",
    "df7"
   ]
  },
  {
   "cell_type": "code",
   "execution_count": 55,
   "id": "6225d903",
   "metadata": {},
   "outputs": [
    {
     "name": "stdout",
     "output_type": "stream",
     "text": [
      "['name', 'percent_change', 'values']\n"
     ]
    }
   ],
   "source": [
    "print(df7.columns.tolist())"
   ]
  },
  {
   "cell_type": "code",
   "execution_count": null,
   "id": "a72480a3",
   "metadata": {},
   "outputs": [],
   "source": [
    "df7['percent_change'] = df7['percent_change'].replace(['quote.USD.percent_change_1h','quote.USD.percent_change_24h','quote.USD.percent_change_7d','quote.USD.percent_change_30d','quote.USD.percent_change_60d','quote.USD.percent_change_90d'],['1h','24h','7d','30d','60d','90d'])\n",
    "df7"
   ]
  },
  {
   "cell_type": "code",
   "execution_count": 63,
   "id": "16a3121f",
   "metadata": {},
   "outputs": [],
   "source": [
    "import seaborn as sns\n",
    "import matplotlib.pyplot as plt"
   ]
  },
  {
   "cell_type": "code",
   "execution_count": 64,
   "id": "8842a90d",
   "metadata": {},
   "outputs": [
    {
     "name": "stdout",
     "output_type": "stream",
     "text": [
      "['1h' '24h' '7d' '30d' '60d' '90d']\n"
     ]
    }
   ],
   "source": [
    "print(df7['percent_change'].unique())"
   ]
  },
  {
   "cell_type": "code",
   "execution_count": 65,
   "id": "c287a308",
   "metadata": {},
   "outputs": [
    {
     "name": "stderr",
     "output_type": "stream",
     "text": [
      "c:\\Users\\User\\Desktop\\Data Analytics\\Python\\ACAPI\\acapi\\lib\\site-packages\\seaborn\\_oldcore.py:1498: FutureWarning: is_categorical_dtype is deprecated and will be removed in a future version. Use isinstance(dtype, CategoricalDtype) instead\n",
      "  if pd.api.types.is_categorical_dtype(vector):\n",
      "c:\\Users\\User\\Desktop\\Data Analytics\\Python\\ACAPI\\acapi\\lib\\site-packages\\seaborn\\_oldcore.py:1498: FutureWarning: is_categorical_dtype is deprecated and will be removed in a future version. Use isinstance(dtype, CategoricalDtype) instead\n",
      "  if pd.api.types.is_categorical_dtype(vector):\n",
      "c:\\Users\\User\\Desktop\\Data Analytics\\Python\\ACAPI\\acapi\\lib\\site-packages\\seaborn\\_oldcore.py:1498: FutureWarning: is_categorical_dtype is deprecated and will be removed in a future version. Use isinstance(dtype, CategoricalDtype) instead\n",
      "  if pd.api.types.is_categorical_dtype(vector):\n",
      "c:\\Users\\User\\Desktop\\Data Analytics\\Python\\ACAPI\\acapi\\lib\\site-packages\\seaborn\\_oldcore.py:1498: FutureWarning: is_categorical_dtype is deprecated and will be removed in a future version. Use isinstance(dtype, CategoricalDtype) instead\n",
      "  if pd.api.types.is_categorical_dtype(vector):\n",
      "c:\\Users\\User\\Desktop\\Data Analytics\\Python\\ACAPI\\acapi\\lib\\site-packages\\seaborn\\_oldcore.py:1498: FutureWarning: is_categorical_dtype is deprecated and will be removed in a future version. Use isinstance(dtype, CategoricalDtype) instead\n",
      "  if pd.api.types.is_categorical_dtype(vector):\n",
      "c:\\Users\\User\\Desktop\\Data Analytics\\Python\\ACAPI\\acapi\\lib\\site-packages\\seaborn\\_oldcore.py:1498: FutureWarning: is_categorical_dtype is deprecated and will be removed in a future version. Use isinstance(dtype, CategoricalDtype) instead\n",
      "  if pd.api.types.is_categorical_dtype(vector):\n",
      "c:\\Users\\User\\Desktop\\Data Analytics\\Python\\ACAPI\\acapi\\lib\\site-packages\\seaborn\\axisgrid.py:118: UserWarning: The figure layout has changed to tight\n",
      "  self._figure.tight_layout(*args, **kwargs)\n"
     ]
    },
    {
     "data": {
      "text/plain": [
       "<seaborn.axisgrid.FacetGrid at 0x1ebaa31acb0>"
      ]
     },
     "execution_count": 65,
     "metadata": {},
     "output_type": "execute_result"
    },
    {
     "data": {
      "image/png": "[encoded data removed]",
      "text/plain": [
       "<Figure size 668.25x500 with 1 Axes>"
      ]
     },
     "metadata": {},
     "output_type": "display_data"
    }
   ],
   "source": [
    "sns.catplot(x='percent_change', y='values', hue='name', data=df7, kind='point')"
   ]
  },
  {
   "cell_type": "code",
   "execution_count": 59,
   "id": "2915d494",
   "metadata": {},
   "outputs": [
    {
     "data": {
      "text/html": [
       "<div>\n",
       "<style scoped>\n",
       "    .dataframe tbody tr th:only-of-type {\n",
       "        vertical-align: middle;\n",
       "    }\n",
       "\n",
       "    .dataframe tbody tr th {\n",
       "        vertical-align: top;\n",
       "    }\n",
       "\n",
       "    .dataframe thead th {\n",
       "        text-align: right;\n",
       "    }\n",
       "</style>\n",
       "<table border=\"1\" class=\"dataframe\">\n",
       "  <thead>\n",
       "    <tr style=\"text-align: right;\">\n",
       "      <th></th>\n",
       "      <th>name</th>\n",
       "      <th>quote.USD.price</th>\n",
       "      <th>timestamp</th>\n",
       "    </tr>\n",
       "  </thead>\n",
       "  <tbody>\n",
       "    <tr>\n",
       "      <th>0</th>\n",
       "      <td>Bitcoin</td>\n",
       "      <td>81279.66152</td>\n",
       "      <td>2025-04-11 05:20:13.117506</td>\n",
       "    </tr>\n",
       "    <tr>\n",
       "      <th>0</th>\n",
       "      <td>Bitcoin</td>\n",
       "      <td>81279.66152</td>\n",
       "      <td>NaT</td>\n",
       "    </tr>\n",
       "    <tr>\n",
       "      <th>0</th>\n",
       "      <td>Bitcoin</td>\n",
       "      <td>81376.64935</td>\n",
       "      <td>NaT</td>\n",
       "    </tr>\n",
       "    <tr>\n",
       "      <th>0</th>\n",
       "      <td>Bitcoin</td>\n",
       "      <td>81332.07786</td>\n",
       "      <td>NaT</td>\n",
       "    </tr>\n",
       "    <tr>\n",
       "      <th>0</th>\n",
       "      <td>Bitcoin</td>\n",
       "      <td>81318.28468</td>\n",
       "      <td>NaT</td>\n",
       "    </tr>\n",
       "    <tr>\n",
       "      <th>0</th>\n",
       "      <td>Bitcoin</td>\n",
       "      <td>81297.34723</td>\n",
       "      <td>NaT</td>\n",
       "    </tr>\n",
       "    <tr>\n",
       "      <th>0</th>\n",
       "      <td>Bitcoin</td>\n",
       "      <td>81321.04093</td>\n",
       "      <td>NaT</td>\n",
       "    </tr>\n",
       "    <tr>\n",
       "      <th>0</th>\n",
       "      <td>Bitcoin</td>\n",
       "      <td>81381.28085</td>\n",
       "      <td>NaT</td>\n",
       "    </tr>\n",
       "    <tr>\n",
       "      <th>0</th>\n",
       "      <td>Bitcoin</td>\n",
       "      <td>81367.45205</td>\n",
       "      <td>NaT</td>\n",
       "    </tr>\n",
       "    <tr>\n",
       "      <th>0</th>\n",
       "      <td>Bitcoin</td>\n",
       "      <td>81251.74508</td>\n",
       "      <td>NaT</td>\n",
       "    </tr>\n",
       "    <tr>\n",
       "      <th>0</th>\n",
       "      <td>Bitcoin</td>\n",
       "      <td>81228.73645</td>\n",
       "      <td>NaT</td>\n",
       "    </tr>\n",
       "    <tr>\n",
       "      <th>0</th>\n",
       "      <td>Bitcoin</td>\n",
       "      <td>81224.69967</td>\n",
       "      <td>NaT</td>\n",
       "    </tr>\n",
       "  </tbody>\n",
       "</table>\n",
       "</div>"
      ],
      "text/plain": [
       "      name  quote.USD.price                  timestamp\n",
       "0  Bitcoin      81279.66152 2025-04-11 05:20:13.117506\n",
       "0  Bitcoin      81279.66152                        NaT\n",
       "0  Bitcoin      81376.64935                        NaT\n",
       "0  Bitcoin      81332.07786                        NaT\n",
       "0  Bitcoin      81318.28468                        NaT\n",
       "0  Bitcoin      81297.34723                        NaT\n",
       "0  Bitcoin      81321.04093                        NaT\n",
       "0  Bitcoin      81381.28085                        NaT\n",
       "0  Bitcoin      81367.45205                        NaT\n",
       "0  Bitcoin      81251.74508                        NaT\n",
       "0  Bitcoin      81228.73645                        NaT\n",
       "0  Bitcoin      81224.69967                        NaT"
      ]
     },
     "execution_count": 59,
     "metadata": {},
     "output_type": "execute_result"
    }
   ],
   "source": [
    "# Now to do something much simpler\n",
    "# we are going to create a dataframe with the columns we want\n",
    "\n",
    "df10 = df[['name','quote.USD.price','timestamp']]\n",
    "df10 = df10.query(\"name == 'Bitcoin'\")\n",
    "df10"
   ]
  },
  {
   "cell_type": "code",
   "execution_count": 60,
   "id": "ae8459af",
   "metadata": {},
   "outputs": [
    {
     "name": "stderr",
     "output_type": "stream",
     "text": [
      "c:\\Users\\User\\Desktop\\Data Analytics\\Python\\ACAPI\\acapi\\lib\\site-packages\\seaborn\\_oldcore.py:1498: FutureWarning: is_categorical_dtype is deprecated and will be removed in a future version. Use isinstance(dtype, CategoricalDtype) instead\n",
      "  if pd.api.types.is_categorical_dtype(vector):\n",
      "c:\\Users\\User\\Desktop\\Data Analytics\\Python\\ACAPI\\acapi\\lib\\site-packages\\seaborn\\_oldcore.py:1498: FutureWarning: is_categorical_dtype is deprecated and will be removed in a future version. Use isinstance(dtype, CategoricalDtype) instead\n",
      "  if pd.api.types.is_categorical_dtype(vector):\n",
      "c:\\Users\\User\\Desktop\\Data Analytics\\Python\\ACAPI\\acapi\\lib\\site-packages\\seaborn\\_oldcore.py:1119: FutureWarning: use_inf_as_na option is deprecated and will be removed in a future version. Convert inf values to NaN before operating instead.\n",
      "  with pd.option_context('mode.use_inf_as_na', True):\n",
      "c:\\Users\\User\\Desktop\\Data Analytics\\Python\\ACAPI\\acapi\\lib\\site-packages\\seaborn\\_oldcore.py:1119: FutureWarning: use_inf_as_na option is deprecated and will be removed in a future version. Convert inf values to NaN before operating instead.\n",
      "  with pd.option_context('mode.use_inf_as_na', True):\n"
     ]
    },
    {
     "data": {
      "text/plain": [
       "<Axes: xlabel='timestamp', ylabel='quote.USD.price'>"
      ]
     },
     "execution_count": 60,
     "metadata": {},
     "output_type": "execute_result"
    },
    {
     "data": {
      "image/png": "[encoded data removed]",
      "text/plain": [
       "<Figure size 640x480 with 1 Axes>"
      ]
     },
     "metadata": {},
     "output_type": "display_data"
    }
   ],
   "source": [
    "sns.set_theme(style=\"darkgrid\")\n",
    "\n",
    "sns.lineplot(x='timestamp', y='quote.USD.price', data = df10)"
   ]
  }
 ],
 "metadata": {
  "kernelspec": {
   "display_name": "acapi",
   "language": "python",
   "name": "python3"
  },
  "language_info": {
   "codemirror_mode": {
    "name": "ipython",
    "version": 3
   },
   "file_extension": ".py",
   "mimetype": "text/x-python",
   "name": "python",
   "nbconvert_exporter": "python",
   "pygments_lexer": "ipython3",
   "version": "3.10.6"
  }
 },
 "nbformat": 4,
 "nbformat_minor": 5
}
